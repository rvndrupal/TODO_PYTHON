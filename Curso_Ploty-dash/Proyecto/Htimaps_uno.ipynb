{
 "cells": [
  {
   "cell_type": "code",
   "execution_count": 5,
   "metadata": {},
   "outputs": [
    {
     "data": {
      "text/html": [
       "<div>\n",
       "<style scoped>\n",
       "    .dataframe tbody tr th:only-of-type {\n",
       "        vertical-align: middle;\n",
       "    }\n",
       "\n",
       "    .dataframe tbody tr th {\n",
       "        vertical-align: top;\n",
       "    }\n",
       "\n",
       "    .dataframe thead th {\n",
       "        text-align: right;\n",
       "    }\n",
       "</style>\n",
       "<table border=\"1\" class=\"dataframe\">\n",
       "  <thead>\n",
       "    <tr style=\"text-align: right;\">\n",
       "      <th></th>\n",
       "      <th>Fecha</th>\n",
       "      <th>Día</th>\n",
       "      <th>Hora</th>\n",
       "      <th>T_prom</th>\n",
       "    </tr>\n",
       "  </thead>\n",
       "  <tbody>\n",
       "    <tr>\n",
       "      <th>0</th>\n",
       "      <td>2019-06-15T00:00:00</td>\n",
       "      <td>Lunes</td>\n",
       "      <td>0:00:00</td>\n",
       "      <td>12.8</td>\n",
       "    </tr>\n",
       "    <tr>\n",
       "      <th>1</th>\n",
       "      <td>2019-06-15T01:00:00</td>\n",
       "      <td>Lunes</td>\n",
       "      <td>1:00:00</td>\n",
       "      <td>12.5</td>\n",
       "    </tr>\n",
       "    <tr>\n",
       "      <th>2</th>\n",
       "      <td>2019-06-15T02:00:00</td>\n",
       "      <td>Lunes</td>\n",
       "      <td>2:00:00</td>\n",
       "      <td>12.6</td>\n",
       "    </tr>\n",
       "    <tr>\n",
       "      <th>3</th>\n",
       "      <td>2019-06-15T03:00:00</td>\n",
       "      <td>Lunes</td>\n",
       "      <td>3:00:00</td>\n",
       "      <td>12.1</td>\n",
       "    </tr>\n",
       "    <tr>\n",
       "      <th>4</th>\n",
       "      <td>2019-06-15T04:00:00</td>\n",
       "      <td>Lunes</td>\n",
       "      <td>4:00:00</td>\n",
       "      <td>12.2</td>\n",
       "    </tr>\n",
       "    <tr>\n",
       "      <th>5</th>\n",
       "      <td>2019-06-15T05:00:00</td>\n",
       "      <td>Lunes</td>\n",
       "      <td>5:00:00</td>\n",
       "      <td>11.9</td>\n",
       "    </tr>\n",
       "    <tr>\n",
       "      <th>6</th>\n",
       "      <td>2019-06-15T06:00:00</td>\n",
       "      <td>Lunes</td>\n",
       "      <td>6:00:00</td>\n",
       "      <td>12.7</td>\n",
       "    </tr>\n",
       "    <tr>\n",
       "      <th>7</th>\n",
       "      <td>2019-06-15T07:00:00</td>\n",
       "      <td>Lunes</td>\n",
       "      <td>7:00:00</td>\n",
       "      <td>13.5</td>\n",
       "    </tr>\n",
       "    <tr>\n",
       "      <th>8</th>\n",
       "      <td>2019-06-16T08:00:00</td>\n",
       "      <td>Lunes</td>\n",
       "      <td>8:00:00</td>\n",
       "      <td>15.3</td>\n",
       "    </tr>\n",
       "    <tr>\n",
       "      <th>9</th>\n",
       "      <td>2019-06-16T09:00:00</td>\n",
       "      <td>Lunes</td>\n",
       "      <td>9:00:00</td>\n",
       "      <td>15.6</td>\n",
       "    </tr>\n",
       "  </tbody>\n",
       "</table>\n",
       "</div>"
      ],
      "text/plain": [
       "                 Fecha    Día     Hora  T_prom\n",
       "0  2019-06-15T00:00:00  Lunes  0:00:00    12.8\n",
       "1  2019-06-15T01:00:00  Lunes  1:00:00    12.5\n",
       "2  2019-06-15T02:00:00  Lunes  2:00:00    12.6\n",
       "3  2019-06-15T03:00:00  Lunes  3:00:00    12.1\n",
       "4  2019-06-15T04:00:00  Lunes  4:00:00    12.2\n",
       "5  2019-06-15T05:00:00  Lunes  5:00:00    11.9\n",
       "6  2019-06-15T06:00:00  Lunes  6:00:00    12.7\n",
       "7  2019-06-15T07:00:00  Lunes  7:00:00    13.5\n",
       "8  2019-06-16T08:00:00  Lunes  8:00:00    15.3\n",
       "9  2019-06-16T09:00:00  Lunes  9:00:00    15.6"
      ]
     },
     "execution_count": 5,
     "metadata": {},
     "output_type": "execute_result"
    }
   ],
   "source": [
    "import plotly.offline as pyo\n",
    "import plotly.graph_objs as go\n",
    "import plotly.figure_factory as ff\n",
    "from plotly import subplots\n",
    "import pandas as pd\n",
    "import numpy as np\n",
    "\n",
    "df=pd.read_csv(r'C:\\Users\\rodrigo.villanueva.c\\Documents\\TODO_PYTHON\\Curso_Ploty-dash\\Datasets\\3.12\\Temperatura_horaria.csv', encoding='ISO-8859-1', delimiter=';')\n",
    "\n",
    "df.head(10)"
   ]
  },
  {
   "cell_type": "code",
   "execution_count": 8,
   "metadata": {},
   "outputs": [
    {
     "data": {
      "text/plain": [
       "'Heatmaps_MapaCalor.html'"
      ]
     },
     "execution_count": 8,
     "metadata": {},
     "output_type": "execute_result"
    }
   ],
   "source": [
    "data=[go.Heatmap(\n",
    "    x=df[\"Día\"],\n",
    "    y=df[\"Hora\"],\n",
    "    z=df[\"T_prom\"].values.tolist(),colorscale=\"Jet\"   #Salida de los colores\n",
    ")]\n",
    "\n",
    "\n",
    "layout=go.Layout(title=\"Heatmaps Temperatura\")\n",
    "\n",
    "fig=go.Figure(data=data, layout=layout)\n",
    "\n",
    "pyo.plot(fig,filename=\"Heatmaps_MapaCalor.html\")\n"
   ]
  },
  {
   "cell_type": "code",
   "execution_count": null,
   "metadata": {},
   "outputs": [],
   "source": []
  }
 ],
 "metadata": {
  "kernelspec": {
   "display_name": "Python 3",
   "language": "python",
   "name": "python3"
  },
  "language_info": {
   "codemirror_mode": {
    "name": "ipython",
    "version": 3
   },
   "file_extension": ".py",
   "mimetype": "text/x-python",
   "name": "python",
   "nbconvert_exporter": "python",
   "pygments_lexer": "ipython3",
   "version": "3.8.5"
  }
 },
 "nbformat": 4,
 "nbformat_minor": 4
}
