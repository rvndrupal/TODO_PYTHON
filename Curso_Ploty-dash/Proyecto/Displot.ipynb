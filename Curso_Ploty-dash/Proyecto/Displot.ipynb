{
 "cells": [
  {
   "cell_type": "code",
   "execution_count": 3,
   "metadata": {},
   "outputs": [
    {
     "data": {
      "text/plain": [
       "'Displot.html'"
      ]
     },
     "execution_count": 3,
     "metadata": {},
     "output_type": "execute_result"
    }
   ],
   "source": [
    "import plotly.offline as pyo\n",
    "import plotly.graph_objs as go\n",
    "import plotly.figure_factory as ff\n",
    "import pandas as pd\n",
    "import numpy as np\n",
    "\n",
    "x1=np.random.randn(1000) #array aleatorio con media 0 y varianza 1\n",
    "x2=np.random.randn(1000)+2 #array con 1000  con media 2 y varianza 1\n",
    "\n",
    "his_data =[x1,x2]\n",
    "\n",
    "group_labels=[\"Distribución x1\",\"Distribución x2\"]\n",
    "\n",
    "fig=ff.create_distplot(his_data,group_labels, bin_size=[2,2])\n",
    "\n",
    "pyo.plot(fig,filename=\"Displot.html\")\n"
   ]
  }
 ],
 "metadata": {
  "kernelspec": {
   "display_name": "Python 3",
   "language": "python",
   "name": "python3"
  },
  "language_info": {
   "codemirror_mode": {
    "name": "ipython",
    "version": 3
   },
   "file_extension": ".py",
   "mimetype": "text/x-python",
   "name": "python",
   "nbconvert_exporter": "python",
   "pygments_lexer": "ipython3",
   "version": "3.8.5"
  }
 },
 "nbformat": 4,
 "nbformat_minor": 4
}
