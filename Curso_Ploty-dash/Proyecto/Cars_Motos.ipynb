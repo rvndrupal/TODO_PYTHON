{
 "cells": [
  {
   "cell_type": "code",
   "execution_count": 1,
   "metadata": {},
   "outputs": [],
   "source": [
    "import plotly.offline as pyo\n",
    "import plotly.graph_objs as go\n",
    "import pandas as pd"
   ]
  },
  {
   "cell_type": "code",
   "execution_count": 3,
   "metadata": {},
   "outputs": [
    {
     "data": {
      "text/html": [
       "<div>\n",
       "<style scoped>\n",
       "    .dataframe tbody tr th:only-of-type {\n",
       "        vertical-align: middle;\n",
       "    }\n",
       "\n",
       "    .dataframe tbody tr th {\n",
       "        vertical-align: top;\n",
       "    }\n",
       "\n",
       "    .dataframe thead th {\n",
       "        text-align: right;\n",
       "    }\n",
       "</style>\n",
       "<table border=\"1\" class=\"dataframe\">\n",
       "  <thead>\n",
       "    <tr style=\"text-align: right;\">\n",
       "      <th></th>\n",
       "      <th>Fecha</th>\n",
       "      <th>Total Venta Classic Cars</th>\n",
       "      <th>Total Venta Motorcycles</th>\n",
       "      <th>Total Venta Planes</th>\n",
       "      <th>Total Venta Ships</th>\n",
       "      <th>Total Venta Trains</th>\n",
       "      <th>Total Venta Trucks and Buses</th>\n",
       "      <th>Total Venta Vintage Cars</th>\n",
       "    </tr>\n",
       "  </thead>\n",
       "  <tbody>\n",
       "    <tr>\n",
       "      <th>0</th>\n",
       "      <td>ene-21</td>\n",
       "      <td>198555</td>\n",
       "      <td>66199</td>\n",
       "      <td>103496.0</td>\n",
       "      <td>69068.0</td>\n",
       "      <td>NaN</td>\n",
       "      <td>101661.0</td>\n",
       "      <td>76212</td>\n",
       "    </tr>\n",
       "    <tr>\n",
       "      <th>1</th>\n",
       "      <td>feb-21</td>\n",
       "      <td>220266</td>\n",
       "      <td>107584</td>\n",
       "      <td>50660.0</td>\n",
       "      <td>46688.0</td>\n",
       "      <td>22295.0</td>\n",
       "      <td>7973.0</td>\n",
       "      <td>75539</td>\n",
       "    </tr>\n",
       "    <tr>\n",
       "      <th>2</th>\n",
       "      <td>mar-21</td>\n",
       "      <td>216497</td>\n",
       "      <td>158174</td>\n",
       "      <td>168445.0</td>\n",
       "      <td>2353.0</td>\n",
       "      <td>5234.0</td>\n",
       "      <td>71864.0</td>\n",
       "      <td>80267</td>\n",
       "    </tr>\n",
       "    <tr>\n",
       "      <th>3</th>\n",
       "      <td>abr-21</td>\n",
       "      <td>267449</td>\n",
       "      <td>52374</td>\n",
       "      <td>20541.0</td>\n",
       "      <td>NaN</td>\n",
       "      <td>NaN</td>\n",
       "      <td>51155.0</td>\n",
       "      <td>60920</td>\n",
       "    </tr>\n",
       "    <tr>\n",
       "      <th>4</th>\n",
       "      <td>may-21</td>\n",
       "      <td>285155</td>\n",
       "      <td>51863</td>\n",
       "      <td>NaN</td>\n",
       "      <td>NaN</td>\n",
       "      <td>25326.0</td>\n",
       "      <td>64369.0</td>\n",
       "      <td>67898</td>\n",
       "    </tr>\n",
       "  </tbody>\n",
       "</table>\n",
       "</div>"
      ],
      "text/plain": [
       "    Fecha  Total Venta Classic Cars  Total Venta Motorcycles  \\\n",
       "0  ene-21                    198555                    66199   \n",
       "1  feb-21                    220266                   107584   \n",
       "2  mar-21                    216497                   158174   \n",
       "3  abr-21                    267449                    52374   \n",
       "4  may-21                    285155                    51863   \n",
       "\n",
       "   Total Venta Planes  Total Venta Ships  Total Venta Trains  \\\n",
       "0            103496.0            69068.0                 NaN   \n",
       "1             50660.0            46688.0             22295.0   \n",
       "2            168445.0             2353.0              5234.0   \n",
       "3             20541.0                NaN                 NaN   \n",
       "4                 NaN                NaN             25326.0   \n",
       "\n",
       "   Total Venta Trucks and Buses  Total Venta Vintage Cars  \n",
       "0                      101661.0                     76212  \n",
       "1                        7973.0                     75539  \n",
       "2                       71864.0                     80267  \n",
       "3                       51155.0                     60920  \n",
       "4                       64369.0                     67898  "
      ]
     },
     "execution_count": 3,
     "metadata": {},
     "output_type": "execute_result"
    }
   ],
   "source": [
    "df=pd.read_csv(r'C:\\Users\\rodrigo.villanueva.c\\Documents\\TODO_PYTHON\\Curso_Ploty-dash\\Datasets\\3.4\\Ventas.csv', encoding='ISO-8859-1', delimiter=';')\n",
    "\n",
    "df.head()"
   ]
  },
  {
   "cell_type": "code",
   "execution_count": 8,
   "metadata": {},
   "outputs": [
    {
     "data": {
      "text/plain": [
       "'Ventas Motos_Carros.html'"
      ]
     },
     "execution_count": 8,
     "metadata": {},
     "output_type": "execute_result"
    }
   ],
   "source": [
    "dat1=go.Scatter(\n",
    "x=df[\"Fecha\"],\n",
    "y=df[\"Total Venta Classic Cars\"],\n",
    "mode=\"lines+markers\",\n",
    "name=\"Cars\"\n",
    "#modelo Lineal + marcadores\n",
    ")\n",
    "\n",
    "\n",
    "dat2=go.Scatter(\n",
    "x=df[\"Fecha\"],\n",
    "y=df[\"Total Venta Motorcycles\"],\n",
    "mode=\"lines+markers\",\n",
    "name=\"Motocicletas\"\n",
    "#modelo Lineal + marcadores\n",
    ")\n",
    "\n",
    "dat3=go.Scatter(\n",
    "x=df[\"Fecha\"],\n",
    "y=df[\"Total Venta Vintage Cars\"],\n",
    "mode=\"lines+markers\",\n",
    "name=\"Total de Ventas\"\n",
    "#modelo Lineal + marcadores\n",
    ")\n",
    "\n",
    "\n",
    "data=[dat1,dat2,dat3]\n",
    "\n",
    "layout=go.Layout(title=\"Ventas Carros y Motos\",\n",
    "xaxis=dict(title=\"Fecha\"),\n",
    "yaxis=dict(title=\"Total de Venta\")\n",
    ")\n",
    "\n",
    "fig=go.Figure(data=data,layout=layout)\n",
    "\n",
    "pyo.plot(fig, filename=\"Ventas Motos_Carros.html\")\n"
   ]
  },
  {
   "cell_type": "code",
   "execution_count": null,
   "metadata": {},
   "outputs": [],
   "source": []
  },
  {
   "cell_type": "code",
   "execution_count": null,
   "metadata": {},
   "outputs": [],
   "source": []
  },
  {
   "cell_type": "code",
   "execution_count": null,
   "metadata": {},
   "outputs": [],
   "source": []
  }
 ],
 "metadata": {
  "kernelspec": {
   "display_name": "Python 3",
   "language": "python",
   "name": "python3"
  },
  "language_info": {
   "codemirror_mode": {
    "name": "ipython",
    "version": 3
   },
   "file_extension": ".py",
   "mimetype": "text/x-python",
   "name": "python",
   "nbconvert_exporter": "python",
   "pygments_lexer": "ipython3",
   "version": "3.8.5"
  }
 },
 "nbformat": 4,
 "nbformat_minor": 4
}
