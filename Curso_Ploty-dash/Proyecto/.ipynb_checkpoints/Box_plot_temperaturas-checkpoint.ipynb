{
 "cells": [
  {
   "cell_type": "code",
   "execution_count": 2,
   "metadata": {},
   "outputs": [],
   "source": [
    "import plotly.offline as pyo\n",
    "import plotly.graph_objs as go\n",
    "import pandas as pd\n",
    "import numpy as np\n"
   ]
  },
  {
   "cell_type": "code",
   "execution_count": 5,
   "metadata": {},
   "outputs": [
    {
     "data": {
      "text/html": [
       "<div>\n",
       "<style scoped>\n",
       "    .dataframe tbody tr th:only-of-type {\n",
       "        vertical-align: middle;\n",
       "    }\n",
       "\n",
       "    .dataframe tbody tr th {\n",
       "        vertical-align: top;\n",
       "    }\n",
       "\n",
       "    .dataframe thead th {\n",
       "        text-align: right;\n",
       "    }\n",
       "</style>\n",
       "<table border=\"1\" class=\"dataframe\">\n",
       "  <thead>\n",
       "    <tr style=\"text-align: right;\">\n",
       "      <th></th>\n",
       "      <th>FECHA</th>\n",
       "      <th>Ciudad</th>\n",
       "      <th>T, Máxima</th>\n",
       "      <th>T,Mínima</th>\n",
       "      <th>T_Promedio</th>\n",
       "    </tr>\n",
       "  </thead>\n",
       "  <tbody>\n",
       "    <tr>\n",
       "      <th>0</th>\n",
       "      <td>2019-06-01</td>\n",
       "      <td>Madrid</td>\n",
       "      <td>33.1</td>\n",
       "      <td>17.2</td>\n",
       "      <td>25.15</td>\n",
       "    </tr>\n",
       "    <tr>\n",
       "      <th>1</th>\n",
       "      <td>2019-06-02</td>\n",
       "      <td>Madrid</td>\n",
       "      <td>34.5</td>\n",
       "      <td>19.0</td>\n",
       "      <td>26.75</td>\n",
       "    </tr>\n",
       "    <tr>\n",
       "      <th>2</th>\n",
       "      <td>2019-06-03</td>\n",
       "      <td>Madrid</td>\n",
       "      <td>32.8</td>\n",
       "      <td>20.3</td>\n",
       "      <td>26.55</td>\n",
       "    </tr>\n",
       "    <tr>\n",
       "      <th>3</th>\n",
       "      <td>2019-06-04</td>\n",
       "      <td>Madrid</td>\n",
       "      <td>29.0</td>\n",
       "      <td>18.9</td>\n",
       "      <td>23.95</td>\n",
       "    </tr>\n",
       "    <tr>\n",
       "      <th>4</th>\n",
       "      <td>2019-06-05</td>\n",
       "      <td>Madrid</td>\n",
       "      <td>22.1</td>\n",
       "      <td>12.7</td>\n",
       "      <td>17.40</td>\n",
       "    </tr>\n",
       "  </tbody>\n",
       "</table>\n",
       "</div>"
      ],
      "text/plain": [
       "       FECHA  Ciudad  T, Máxima  T,Mínima  T_Promedio\n",
       "0 2019-06-01  Madrid       33.1      17.2       25.15\n",
       "1 2019-06-02  Madrid       34.5      19.0       26.75\n",
       "2 2019-06-03  Madrid       32.8      20.3       26.55\n",
       "3 2019-06-04  Madrid       29.0      18.9       23.95\n",
       "4 2019-06-05  Madrid       22.1      12.7       17.40"
      ]
     },
     "execution_count": 5,
     "metadata": {},
     "output_type": "execute_result"
    }
   ],
   "source": [
    "datos=pd.read_excel(r'C:\\Users\\rodrigo.villanueva.c\\Documents\\TODO_PYTHON\\Curso_Ploty-dash\\Datasets\\3.8\\Temperaturas.xlsx')\n",
    "\n",
    "datos.head()"
   ]
  },
  {
   "cell_type": "code",
   "execution_count": null,
   "metadata": {},
   "outputs": [],
   "source": [
    "data=[go.Box(\n",
    "    x=datos[\"Ciudad\"],\n",
    "    y=datos[\"T_Promedio\"]\n",
    ")]\n",
    "\n",
    "\n",
    "layout=go.Layout(title=\"Box and Temperatura\")\n",
    "\n",
    "fig=go.Figure(data=data,layout=layout)\n",
    "\n",
    "pyo.plot(fig, filename=\"Box_temperatura.html\")\n",
    "\n",
    "\n",
    "\n"
   ]
  }
 ],
 "metadata": {
  "kernelspec": {
   "display_name": "Python 3",
   "language": "python",
   "name": "python3"
  },
  "language_info": {
   "codemirror_mode": {
    "name": "ipython",
    "version": 3
   },
   "file_extension": ".py",
   "mimetype": "text/x-python",
   "name": "python",
   "nbconvert_exporter": "python",
   "pygments_lexer": "ipython3",
   "version": "3.8.5"
  }
 },
 "nbformat": 4,
 "nbformat_minor": 4
}
