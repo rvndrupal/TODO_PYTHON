{
 "cells": [
  {
   "cell_type": "code",
   "execution_count": 2,
   "metadata": {},
   "outputs": [
    {
     "data": {
      "text/html": [
       "<div>\n",
       "<style scoped>\n",
       "    .dataframe tbody tr th:only-of-type {\n",
       "        vertical-align: middle;\n",
       "    }\n",
       "\n",
       "    .dataframe tbody tr th {\n",
       "        vertical-align: top;\n",
       "    }\n",
       "\n",
       "    .dataframe thead th {\n",
       "        text-align: right;\n",
       "    }\n",
       "</style>\n",
       "<table border=\"1\" class=\"dataframe\">\n",
       "  <thead>\n",
       "    <tr style=\"text-align: right;\">\n",
       "      <th></th>\n",
       "      <th>País</th>\n",
       "      <th>Oro</th>\n",
       "      <th>Plata</th>\n",
       "      <th>Bronce</th>\n",
       "      <th>Total</th>\n",
       "    </tr>\n",
       "  </thead>\n",
       "  <tbody>\n",
       "    <tr>\n",
       "      <th>0</th>\n",
       "      <td>Estados Unidos (USA)</td>\n",
       "      <td>1022</td>\n",
       "      <td>794</td>\n",
       "      <td>704</td>\n",
       "      <td>2520</td>\n",
       "    </tr>\n",
       "    <tr>\n",
       "      <th>1</th>\n",
       "      <td>Unión Soviética (URS)</td>\n",
       "      <td>395</td>\n",
       "      <td>319</td>\n",
       "      <td>296</td>\n",
       "      <td>1010</td>\n",
       "    </tr>\n",
       "    <tr>\n",
       "      <th>2</th>\n",
       "      <td>Reino Unido (GBR)</td>\n",
       "      <td>263</td>\n",
       "      <td>295</td>\n",
       "      <td>289</td>\n",
       "      <td>847</td>\n",
       "    </tr>\n",
       "    <tr>\n",
       "      <th>3</th>\n",
       "      <td>China (CHN)</td>\n",
       "      <td>227</td>\n",
       "      <td>163</td>\n",
       "      <td>153</td>\n",
       "      <td>543</td>\n",
       "    </tr>\n",
       "    <tr>\n",
       "      <th>4</th>\n",
       "      <td>Alemania (GER)</td>\n",
       "      <td>219</td>\n",
       "      <td>246</td>\n",
       "      <td>269</td>\n",
       "      <td>734</td>\n",
       "    </tr>\n",
       "  </tbody>\n",
       "</table>\n",
       "</div>"
      ],
      "text/plain": [
       "                     País   Oro  Plata  Bronce  Total\n",
       "0    Estados Unidos (USA)  1022    794     704   2520\n",
       "1   Unión Soviética (URS)   395    319     296   1010\n",
       "2       Reino Unido (GBR)   263    295     289    847\n",
       "3             China (CHN)   227    163     153    543\n",
       "4          Alemania (GER)   219    246     269    734"
      ]
     },
     "execution_count": 2,
     "metadata": {},
     "output_type": "execute_result"
    }
   ],
   "source": [
    "import plotly.offline as pyo\n",
    "import plotly.graph_objs as go\n",
    "import pandas as pd\n",
    "\n",
    "df=pd.read_excel(r'C:\\Users\\rodrigo.villanueva.c\\Documents\\TODO_PYTHON\\Curso_Ploty-dash\\Datasets\\3.5\\Medallas_olímpicas.xlsx')\n",
    "\n",
    "df.head()"
   ]
  },
  {
   "cell_type": "code",
   "execution_count": 7,
   "metadata": {},
   "outputs": [
    {
     "data": {
      "text/plain": [
       "'Medallas_bar.html'"
      ]
     },
     "execution_count": 7,
     "metadata": {},
     "output_type": "execute_result"
    }
   ],
   "source": [
    "#Ordenamos \n",
    "df=df.sort_values(by=\"Total\",ascending=False)\n",
    "df.head()\n",
    "\n",
    "dat1=go.Bar(\n",
    "x=df[\"País\"],\n",
    "y=df[\"Oro\"],\n",
    "name=\"Oro\",\n",
    "marker={\"color\": \"#FFD700\"}\n",
    "#modelo Lineal + marcadores\n",
    ")\n",
    "\n",
    "dat2=go.Bar(\n",
    "x=df[\"País\"],\n",
    "y=df[\"Plata\"],\n",
    "name=\"Plata\",\n",
    "marker={\"color\": \"#C0C0C0\"}\n",
    "#modelo Lineal + marcadores\n",
    ")\n",
    "\n",
    "dat3=go.Bar(\n",
    "x=df[\"País\"],\n",
    "y=df[\"Bronce\"],\n",
    "name=\"Bronce\",\n",
    "marker={\"color\": \"#CD7F32\"}\n",
    "#modelo Lineal + marcadores\n",
    ")\n",
    "\n",
    "data=[dat1,dat2,dat3]\n",
    "\n",
    "\n",
    "layout=go.Layout(title=\"Medallas olímpicas por País\",\n",
    "xaxis=dict(title=\"País\"),\n",
    "yaxis=dict(title=\"Total de medallas\"),\n",
    "barmode=\"stack\"  #Para que se vean los tres valores en la misma linea.\n",
    ")\n",
    "\n",
    "fig=go.Figure(data=data,layout=layout)\n",
    "\n",
    "pyo.plot(fig, filename=\"Medallas_bar.html\")\n"
   ]
  },
  {
   "cell_type": "code",
   "execution_count": null,
   "metadata": {},
   "outputs": [],
   "source": []
  },
  {
   "cell_type": "code",
   "execution_count": null,
   "metadata": {},
   "outputs": [],
   "source": []
  },
  {
   "cell_type": "code",
   "execution_count": null,
   "metadata": {},
   "outputs": [],
   "source": []
  },
  {
   "cell_type": "code",
   "execution_count": null,
   "metadata": {},
   "outputs": [],
   "source": []
  }
 ],
 "metadata": {
  "kernelspec": {
   "display_name": "Python 3",
   "language": "python",
   "name": "python3"
  },
  "language_info": {
   "codemirror_mode": {
    "name": "ipython",
    "version": 3
   },
   "file_extension": ".py",
   "mimetype": "text/x-python",
   "name": "python",
   "nbconvert_exporter": "python",
   "pygments_lexer": "ipython3",
   "version": "3.8.5"
  }
 },
 "nbformat": 4,
 "nbformat_minor": 4
}
